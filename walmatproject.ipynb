{
 "cells": [
  {
   "cell_type": "code",
   "execution_count": 11,
   "id": "3c1da0b8-ead3-4a4a-94d1-1c822dfd9a09",
   "metadata": {
    "tags": []
   },
   "outputs": [],
   "source": [
    "# you can import separately\n",
    "import pandas as pd\n",
    "import os\n",
    "from datetime import datetime"
   ]
  },
  {
   "cell_type": "code",
   "execution_count": 13,
   "id": "b7352f7d-96ae-4297-a41e-8f88a91a7c06",
   "metadata": {
    "tags": []
   },
   "outputs": [
    {
     "name": "stdout",
     "output_type": "stream",
     "text": [
      "Current working directory: C:\\Users\\ALVIN KAYI\\Desktop\\python_data_analysis\\walmart project\n"
     ]
    }
   ],
   "source": [
    "#get the working directory\n",
    "current_directory = os.getcwd()\n",
    "\n",
    "# Print the current working directory\n",
    "print(\"Current working directory:\", current_directory)"
   ]
  },
  {
   "cell_type": "code",
   "execution_count": 14,
   "id": "ae06b27d-e52b-426b-a4d6-10eaad15ffcf",
   "metadata": {
    "tags": []
   },
   "outputs": [],
   "source": [
    "df = pd.read_csv(r\"C:\\Users\\ALVIN KAYI\\Desktop\\walmart_project\\WalmartSalesData.csv\")"
   ]
  },
  {
   "cell_type": "code",
   "execution_count": 15,
   "id": "7402a07d-0b34-4133-b563-823274f2dafa",
   "metadata": {
    "scrolled": true,
    "tags": []
   },
   "outputs": [],
   "source": [
    "# Add a new column named `time_of_day` to give insight of sales in the Morning, Afternoon and Evening. This will help answer the question on which part of the day most sales are made.\n",
    "\n",
    "#Convert to String: Assuming your DataFrame is named df, convert the Time column to string:\n",
    "df['hour'] = df['Time of Day'].str[:2].astype(int)\n",
    "\n",
    "#Create New Column: Next, create a new column named time_of_day based on the hour values:\n",
    "df['time_of_day'] = pd.cut(df['hour'], bins=[0, 12, 18, 24], labels=['Morning', 'Afternoon', 'Evening'])\n",
    "\n",
    "#Clean Up: Finally, drop the temporary hour column if you don’t need it anymore:\n",
    "df.drop(columns=['hour'], inplace=True)\n",
    "\n",
    "#save to the cvs file\n",
    "df.to_csv('WalmartSalesData.csv', index=False)"
   ]
  },
  {
   "cell_type": "code",
   "execution_count": 16,
   "id": "51bce7c2-6473-4633-b3c1-62ee0063e022",
   "metadata": {
    "tags": []
   },
   "outputs": [],
   "source": [
    "#Add a new column named `day_name` that contains the extracted days of the week on which the given transaction took place (Mon, Tue, Wed, Thur, Fri).\n",
    "#This will help answer the question on which week of the day each branch is busiest.\n",
    "#converting date column to datetime to avoid errors when using .dt\n",
    "#The errors='coerce' parameter ensures that any invalid date values are converted to NaT (Not-a-Time) instead of raising an error.\n",
    "df['Date'] = pd.to_datetime(df['Date'], errors='coerce')\n",
    "\n",
    "df['day_name'] = df['Date'].dt.day_name()\n",
    "\n",
    "\n",
    "\n",
    "df.to_csv('WalmartSalesData.csv', index=False)"
   ]
  },
  {
   "cell_type": "code",
   "execution_count": 17,
   "id": "fdaee96b-12a7-41c1-a680-11632a26dfbf",
   "metadata": {
    "tags": []
   },
   "outputs": [
    {
     "ename": "IndentationError",
     "evalue": "unexpected indent (4085524895.py, line 3)",
     "output_type": "error",
     "traceback": [
      "\u001b[1;36m  Cell \u001b[1;32mIn[17], line 3\u001b[1;36m\u001b[0m\n\u001b[1;33m    df['month'] = df['Date'].dt.month\u001b[0m\n\u001b[1;37m    ^\u001b[0m\n\u001b[1;31mIndentationError\u001b[0m\u001b[1;31m:\u001b[0m unexpected indent\n"
     ]
    }
   ],
   "source": [
    "# #Add a new column named `month_name` that contains the extracted months of the year on which the given transaction took place (Jan, Feb, Mar). Help determine which month of the year has the most sales and profit.\n",
    "# #creating a column to hold the months data\n",
    " df['month'] = df['Date'].dt.month\n",
    "\n",
    "  months = {\n",
    "     1:'January',\n",
    "     2:'February',\n",
    "     3:'March',\n",
    "     4:\"April\",\n",
    "     5:\"May\",\n",
    "     6:\"June\",\n",
    "     7:\"July\",\n",
    "     8:\"August\",\n",
    "     9:\"September\",\n",
    "     10:\"october\",\n",
    "     11:\"November\",\n",
    "     12:\"December\"\n",
    " }\n",
    "\n",
    "# #the clumn was displayed in numbers so we create a dictionary to be mapped over to be exuated to the figures\n",
    "df[\"Month\"] = df[\"month\"].map(months)\n",
    "\n",
    "# delete tghe month column you dont need it anymore\n",
    "df.drop(columns=['month'], inplace=True)\n",
    "\n",
    "# #save the changes to the csv file\n",
    "df.to_csv('WalmartSalesData.csv', index=False)#Convert the 'Date' column to the day of the week.\n",
    "    \n",
    "df['Day of Week'] = df['Date'].dt.day_name()"
   ]
  },
  {
   "cell_type": "code",
   "execution_count": 18,
   "id": "b1b61371-3175-45da-95ad-9e87fff0be51",
   "metadata": {
    "tags": []
   },
   "outputs": [
    {
     "data": {
      "text/html": [
       "<div>\n",
       "<style scoped>\n",
       "    .dataframe tbody tr th:only-of-type {\n",
       "        vertical-align: middle;\n",
       "    }\n",
       "\n",
       "    .dataframe tbody tr th {\n",
       "        vertical-align: top;\n",
       "    }\n",
       "\n",
       "    .dataframe thead th {\n",
       "        text-align: right;\n",
       "    }\n",
       "</style>\n",
       "<table border=\"1\" class=\"dataframe\">\n",
       "  <thead>\n",
       "    <tr style=\"text-align: right;\">\n",
       "      <th></th>\n",
       "      <th>Invoice ID</th>\n",
       "      <th>Branch</th>\n",
       "      <th>City</th>\n",
       "      <th>Customer type</th>\n",
       "      <th>Gender</th>\n",
       "      <th>Product line</th>\n",
       "      <th>Unit price</th>\n",
       "      <th>Quantity</th>\n",
       "      <th>Tax 5%</th>\n",
       "      <th>Total</th>\n",
       "      <th>...</th>\n",
       "      <th>Payment</th>\n",
       "      <th>cogs</th>\n",
       "      <th>gross margin percentage</th>\n",
       "      <th>gross income</th>\n",
       "      <th>Rating</th>\n",
       "      <th>Time of Day</th>\n",
       "      <th>time_of_day</th>\n",
       "      <th>day_name</th>\n",
       "      <th>Month</th>\n",
       "      <th>Good or Bad</th>\n",
       "    </tr>\n",
       "  </thead>\n",
       "  <tbody>\n",
       "    <tr>\n",
       "      <th>0</th>\n",
       "      <td>750-67-8428</td>\n",
       "      <td>A</td>\n",
       "      <td>Yangon</td>\n",
       "      <td>Member</td>\n",
       "      <td>Female</td>\n",
       "      <td>Health and beauty</td>\n",
       "      <td>74.69</td>\n",
       "      <td>7</td>\n",
       "      <td>26.1415</td>\n",
       "      <td>548.9715</td>\n",
       "      <td>...</td>\n",
       "      <td>Ewallet</td>\n",
       "      <td>522.83</td>\n",
       "      <td>4.761905</td>\n",
       "      <td>26.1415</td>\n",
       "      <td>9.1</td>\n",
       "      <td>13:08:00</td>\n",
       "      <td>Afternoon</td>\n",
       "      <td>Saturday</td>\n",
       "      <td>January</td>\n",
       "      <td>NaN</td>\n",
       "    </tr>\n",
       "    <tr>\n",
       "      <th>1</th>\n",
       "      <td>226-31-3081</td>\n",
       "      <td>C</td>\n",
       "      <td>Naypyitaw</td>\n",
       "      <td>Normal</td>\n",
       "      <td>Female</td>\n",
       "      <td>Electronic accessories</td>\n",
       "      <td>15.28</td>\n",
       "      <td>5</td>\n",
       "      <td>3.8200</td>\n",
       "      <td>80.2200</td>\n",
       "      <td>...</td>\n",
       "      <td>Cash</td>\n",
       "      <td>76.40</td>\n",
       "      <td>4.761905</td>\n",
       "      <td>3.8200</td>\n",
       "      <td>9.6</td>\n",
       "      <td>10:29:00</td>\n",
       "      <td>Morning</td>\n",
       "      <td>Friday</td>\n",
       "      <td>March</td>\n",
       "      <td>NaN</td>\n",
       "    </tr>\n",
       "    <tr>\n",
       "      <th>2</th>\n",
       "      <td>631-41-3108</td>\n",
       "      <td>A</td>\n",
       "      <td>Yangon</td>\n",
       "      <td>Normal</td>\n",
       "      <td>Male</td>\n",
       "      <td>Home and lifestyle</td>\n",
       "      <td>46.33</td>\n",
       "      <td>7</td>\n",
       "      <td>16.2155</td>\n",
       "      <td>340.5255</td>\n",
       "      <td>...</td>\n",
       "      <td>Credit card</td>\n",
       "      <td>324.31</td>\n",
       "      <td>4.761905</td>\n",
       "      <td>16.2155</td>\n",
       "      <td>7.4</td>\n",
       "      <td>13:23:00</td>\n",
       "      <td>Afternoon</td>\n",
       "      <td>Sunday</td>\n",
       "      <td>March</td>\n",
       "      <td>NaN</td>\n",
       "    </tr>\n",
       "    <tr>\n",
       "      <th>3</th>\n",
       "      <td>123-19-1176</td>\n",
       "      <td>A</td>\n",
       "      <td>Yangon</td>\n",
       "      <td>Member</td>\n",
       "      <td>Male</td>\n",
       "      <td>Health and beauty</td>\n",
       "      <td>58.22</td>\n",
       "      <td>8</td>\n",
       "      <td>23.2880</td>\n",
       "      <td>489.0480</td>\n",
       "      <td>...</td>\n",
       "      <td>Ewallet</td>\n",
       "      <td>465.76</td>\n",
       "      <td>4.761905</td>\n",
       "      <td>23.2880</td>\n",
       "      <td>8.4</td>\n",
       "      <td>20:33:00</td>\n",
       "      <td>Evening</td>\n",
       "      <td>Sunday</td>\n",
       "      <td>January</td>\n",
       "      <td>NaN</td>\n",
       "    </tr>\n",
       "    <tr>\n",
       "      <th>4</th>\n",
       "      <td>373-73-7910</td>\n",
       "      <td>A</td>\n",
       "      <td>Yangon</td>\n",
       "      <td>Normal</td>\n",
       "      <td>Male</td>\n",
       "      <td>Sports and travel</td>\n",
       "      <td>86.31</td>\n",
       "      <td>7</td>\n",
       "      <td>30.2085</td>\n",
       "      <td>634.3785</td>\n",
       "      <td>...</td>\n",
       "      <td>Ewallet</td>\n",
       "      <td>604.17</td>\n",
       "      <td>4.761905</td>\n",
       "      <td>30.2085</td>\n",
       "      <td>5.3</td>\n",
       "      <td>10:37:00</td>\n",
       "      <td>Morning</td>\n",
       "      <td>Friday</td>\n",
       "      <td>February</td>\n",
       "      <td>NaN</td>\n",
       "    </tr>\n",
       "    <tr>\n",
       "      <th>...</th>\n",
       "      <td>...</td>\n",
       "      <td>...</td>\n",
       "      <td>...</td>\n",
       "      <td>...</td>\n",
       "      <td>...</td>\n",
       "      <td>...</td>\n",
       "      <td>...</td>\n",
       "      <td>...</td>\n",
       "      <td>...</td>\n",
       "      <td>...</td>\n",
       "      <td>...</td>\n",
       "      <td>...</td>\n",
       "      <td>...</td>\n",
       "      <td>...</td>\n",
       "      <td>...</td>\n",
       "      <td>...</td>\n",
       "      <td>...</td>\n",
       "      <td>...</td>\n",
       "      <td>...</td>\n",
       "      <td>...</td>\n",
       "      <td>...</td>\n",
       "    </tr>\n",
       "    <tr>\n",
       "      <th>995</th>\n",
       "      <td>233-67-5758</td>\n",
       "      <td>C</td>\n",
       "      <td>Naypyitaw</td>\n",
       "      <td>Normal</td>\n",
       "      <td>Male</td>\n",
       "      <td>Health and beauty</td>\n",
       "      <td>40.35</td>\n",
       "      <td>1</td>\n",
       "      <td>2.0175</td>\n",
       "      <td>42.3675</td>\n",
       "      <td>...</td>\n",
       "      <td>Ewallet</td>\n",
       "      <td>40.35</td>\n",
       "      <td>4.761905</td>\n",
       "      <td>2.0175</td>\n",
       "      <td>6.2</td>\n",
       "      <td>13:46:00</td>\n",
       "      <td>Afternoon</td>\n",
       "      <td>Tuesday</td>\n",
       "      <td>January</td>\n",
       "      <td>NaN</td>\n",
       "    </tr>\n",
       "    <tr>\n",
       "      <th>996</th>\n",
       "      <td>303-96-2227</td>\n",
       "      <td>B</td>\n",
       "      <td>Mandalay</td>\n",
       "      <td>Normal</td>\n",
       "      <td>Female</td>\n",
       "      <td>Home and lifestyle</td>\n",
       "      <td>97.38</td>\n",
       "      <td>10</td>\n",
       "      <td>48.6900</td>\n",
       "      <td>1022.4900</td>\n",
       "      <td>...</td>\n",
       "      <td>Ewallet</td>\n",
       "      <td>973.80</td>\n",
       "      <td>4.761905</td>\n",
       "      <td>48.6900</td>\n",
       "      <td>4.4</td>\n",
       "      <td>17:16:00</td>\n",
       "      <td>Afternoon</td>\n",
       "      <td>Saturday</td>\n",
       "      <td>March</td>\n",
       "      <td>NaN</td>\n",
       "    </tr>\n",
       "    <tr>\n",
       "      <th>997</th>\n",
       "      <td>727-02-1313</td>\n",
       "      <td>A</td>\n",
       "      <td>Yangon</td>\n",
       "      <td>Member</td>\n",
       "      <td>Male</td>\n",
       "      <td>Food and beverages</td>\n",
       "      <td>31.84</td>\n",
       "      <td>1</td>\n",
       "      <td>1.5920</td>\n",
       "      <td>33.4320</td>\n",
       "      <td>...</td>\n",
       "      <td>Cash</td>\n",
       "      <td>31.84</td>\n",
       "      <td>4.761905</td>\n",
       "      <td>1.5920</td>\n",
       "      <td>7.7</td>\n",
       "      <td>13:22:00</td>\n",
       "      <td>Afternoon</td>\n",
       "      <td>Saturday</td>\n",
       "      <td>February</td>\n",
       "      <td>NaN</td>\n",
       "    </tr>\n",
       "    <tr>\n",
       "      <th>998</th>\n",
       "      <td>347-56-2442</td>\n",
       "      <td>A</td>\n",
       "      <td>Yangon</td>\n",
       "      <td>Normal</td>\n",
       "      <td>Male</td>\n",
       "      <td>Home and lifestyle</td>\n",
       "      <td>65.82</td>\n",
       "      <td>1</td>\n",
       "      <td>3.2910</td>\n",
       "      <td>69.1110</td>\n",
       "      <td>...</td>\n",
       "      <td>Cash</td>\n",
       "      <td>65.82</td>\n",
       "      <td>4.761905</td>\n",
       "      <td>3.2910</td>\n",
       "      <td>4.1</td>\n",
       "      <td>15:33:00</td>\n",
       "      <td>Afternoon</td>\n",
       "      <td>Friday</td>\n",
       "      <td>February</td>\n",
       "      <td>NaN</td>\n",
       "    </tr>\n",
       "    <tr>\n",
       "      <th>999</th>\n",
       "      <td>849-09-3807</td>\n",
       "      <td>A</td>\n",
       "      <td>Yangon</td>\n",
       "      <td>Member</td>\n",
       "      <td>Female</td>\n",
       "      <td>Fashion accessories</td>\n",
       "      <td>88.34</td>\n",
       "      <td>7</td>\n",
       "      <td>30.9190</td>\n",
       "      <td>649.2990</td>\n",
       "      <td>...</td>\n",
       "      <td>Cash</td>\n",
       "      <td>618.38</td>\n",
       "      <td>4.761905</td>\n",
       "      <td>30.9190</td>\n",
       "      <td>6.6</td>\n",
       "      <td>13:28:00</td>\n",
       "      <td>Afternoon</td>\n",
       "      <td>Monday</td>\n",
       "      <td>February</td>\n",
       "      <td>NaN</td>\n",
       "    </tr>\n",
       "  </tbody>\n",
       "</table>\n",
       "<p>1000 rows × 22 columns</p>\n",
       "</div>"
      ],
      "text/plain": [
       "      Invoice ID Branch       City Customer type  Gender  \\\n",
       "0    750-67-8428      A     Yangon        Member  Female   \n",
       "1    226-31-3081      C  Naypyitaw        Normal  Female   \n",
       "2    631-41-3108      A     Yangon        Normal    Male   \n",
       "3    123-19-1176      A     Yangon        Member    Male   \n",
       "4    373-73-7910      A     Yangon        Normal    Male   \n",
       "..           ...    ...        ...           ...     ...   \n",
       "995  233-67-5758      C  Naypyitaw        Normal    Male   \n",
       "996  303-96-2227      B   Mandalay        Normal  Female   \n",
       "997  727-02-1313      A     Yangon        Member    Male   \n",
       "998  347-56-2442      A     Yangon        Normal    Male   \n",
       "999  849-09-3807      A     Yangon        Member  Female   \n",
       "\n",
       "               Product line  Unit price  Quantity   Tax 5%      Total  ...  \\\n",
       "0         Health and beauty       74.69         7  26.1415   548.9715  ...   \n",
       "1    Electronic accessories       15.28         5   3.8200    80.2200  ...   \n",
       "2        Home and lifestyle       46.33         7  16.2155   340.5255  ...   \n",
       "3         Health and beauty       58.22         8  23.2880   489.0480  ...   \n",
       "4         Sports and travel       86.31         7  30.2085   634.3785  ...   \n",
       "..                      ...         ...       ...      ...        ...  ...   \n",
       "995       Health and beauty       40.35         1   2.0175    42.3675  ...   \n",
       "996      Home and lifestyle       97.38        10  48.6900  1022.4900  ...   \n",
       "997      Food and beverages       31.84         1   1.5920    33.4320  ...   \n",
       "998      Home and lifestyle       65.82         1   3.2910    69.1110  ...   \n",
       "999     Fashion accessories       88.34         7  30.9190   649.2990  ...   \n",
       "\n",
       "         Payment    cogs gross margin percentage  gross income  Rating  \\\n",
       "0        Ewallet  522.83                4.761905       26.1415     9.1   \n",
       "1           Cash   76.40                4.761905        3.8200     9.6   \n",
       "2    Credit card  324.31                4.761905       16.2155     7.4   \n",
       "3        Ewallet  465.76                4.761905       23.2880     8.4   \n",
       "4        Ewallet  604.17                4.761905       30.2085     5.3   \n",
       "..           ...     ...                     ...           ...     ...   \n",
       "995      Ewallet   40.35                4.761905        2.0175     6.2   \n",
       "996      Ewallet  973.80                4.761905       48.6900     4.4   \n",
       "997         Cash   31.84                4.761905        1.5920     7.7   \n",
       "998         Cash   65.82                4.761905        3.2910     4.1   \n",
       "999         Cash  618.38                4.761905       30.9190     6.6   \n",
       "\n",
       "     Time of Day  time_of_day  day_name     Month Good or Bad  \n",
       "0       13:08:00    Afternoon  Saturday   January         NaN  \n",
       "1       10:29:00      Morning    Friday     March         NaN  \n",
       "2       13:23:00    Afternoon    Sunday     March         NaN  \n",
       "3       20:33:00      Evening    Sunday   January         NaN  \n",
       "4       10:37:00      Morning    Friday  February         NaN  \n",
       "..           ...          ...       ...       ...         ...  \n",
       "995     13:46:00    Afternoon   Tuesday   January         NaN  \n",
       "996     17:16:00    Afternoon  Saturday     March         NaN  \n",
       "997     13:22:00    Afternoon  Saturday  February         NaN  \n",
       "998     15:33:00    Afternoon    Friday  February         NaN  \n",
       "999     13:28:00    Afternoon    Monday  February         NaN  \n",
       "\n",
       "[1000 rows x 22 columns]"
      ]
     },
     "execution_count": 18,
     "metadata": {},
     "output_type": "execute_result"
    }
   ],
   "source": [
    "df"
   ]
  },
  {
   "cell_type": "code",
   "execution_count": 19,
   "id": "7b21fd01-31f7-40e5-96b0-1d4d175bff45",
   "metadata": {},
   "outputs": [
    {
     "name": "stdout",
     "output_type": "stream",
     "text": [
      "3\n"
     ]
    }
   ],
   "source": [
    "## Business Questions To Answer\n",
    "\n",
    "### Generic Question\n",
    "\n",
    "#1. How many unique cities does the data have?\n",
    "unique_cities = df[\"City\"].nunique()\n",
    "print(unique_cities)"
   ]
  },
  {
   "cell_type": "code",
   "execution_count": 20,
   "id": "9bbe7a01-f986-44ce-b887-6d155a1e6d11",
   "metadata": {
    "tags": []
   },
   "outputs": [
    {
     "name": "stdout",
     "output_type": "stream",
     "text": [
      "  Branch       Cities\n",
      "0      A     [Yangon]\n",
      "1      B   [Mandalay]\n",
      "2      C  [Naypyitaw]\n"
     ]
    }
   ],
   "source": [
    "#2. In which city is each branch\n",
    "# Group by branch and aggregate the cities into a list\n",
    "branch_cities = df.groupby('Branch')['City'].unique()\n",
    "\n",
    "# Create a new DataFrame to display the results\n",
    "result_df = pd.DataFrame(branch_cities)\n",
    "result_df.reset_index(inplace=True)  # Reset index for cleaner display\n",
    "\n",
    "# Rename columns for clarity\n",
    "result_df.columns = ['Branch', 'Cities']\n",
    "\n",
    "# Print the result\n",
    "print(result_df)"
   ]
  },
  {
   "cell_type": "code",
   "execution_count": 21,
   "id": "a9a309b3-32f4-4997-b779-17837e39cf0e",
   "metadata": {
    "tags": []
   },
   "outputs": [
    {
     "name": "stdout",
     "output_type": "stream",
     "text": [
      "6\n"
     ]
    }
   ],
   "source": [
    "#\n",
    "### Product\n",
    "\n",
    "# 1. How many unique product lines does the data have?\n",
    "\n",
    "unique_products = df['Product line'].nunique()\n",
    "print(unique_products)"
   ]
  },
  {
   "cell_type": "code",
   "execution_count": 22,
   "id": "c1051adf",
   "metadata": {},
   "outputs": [
    {
     "name": "stdout",
     "output_type": "stream",
     "text": [
      "The most common payment method is: (Payment\n",
      "Cash           1896\n",
      "Credit card    1722\n",
      "Ewallet        1892\n",
      "Name: Quantity, dtype: int64)\n"
     ]
    }
   ],
   "source": [
    "#2. What is the most common payment method?\n",
    "import pandas as pd\n",
    "df = pd.read_csv(r\"C:\\Users\\ALVIN KAYI\\Desktop\\walmart_project\\WalmartSalesData.csv\")\n",
    "\n",
    "common = df.groupby(\"Payment\")[\"Quantity\"].sum()\n",
    "\n",
    "result_df = pd.DataFrame(common)\n",
    "result_df.reset_index(inplace=True)\n",
    "\n",
    "# most_common_method = common.idxmax()\n",
    "print(f\"The most common payment method is: ({common})\")"
   ]
  },
  {
   "cell_type": "code",
   "execution_count": 23,
   "id": "6dd42ca3",
   "metadata": {},
   "outputs": [
    {
     "name": "stdout",
     "output_type": "stream",
     "text": [
      "The most common payment method is: (Product line\n",
      "Electronic accessories    971\n",
      "Fashion accessories       902\n",
      "Food and beverages        952\n",
      "Health and beauty         854\n",
      "Home and lifestyle        911\n",
      "Sports and travel         920\n",
      "Name: Quantity, dtype: int64)\n"
     ]
    }
   ],
   "source": [
    "#3. What is the most selling product line?\n",
    "most_sold =  df.groupby(\"Product line\")[\"Quantity\"].sum() \n",
    "result_df = pd.DataFrame(most_sold) \n",
    "\n",
    "\n",
    "print(f\"The most common payment method is: ({most_sold})\")"
   ]
  },
  {
   "cell_type": "code",
   "execution_count": 24,
   "id": "a7b31126",
   "metadata": {},
   "outputs": [
    {
     "data": {
      "text/plain": [
       "Month\n",
       "February     97219.374\n",
       "January     116291.868\n",
       "March       109455.507\n",
       "Name: Total, dtype: float64"
      ]
     },
     "execution_count": 24,
     "metadata": {},
     "output_type": "execute_result"
    }
   ],
   "source": [
    "#4. What is the total revenue by month?\n",
    "total_revenue =  df.groupby(\"Month\")[\"Total\"].sum() \n",
    "# result_df = pd.DataFrame(most_sold) \n",
    "total_revenue"
   ]
  },
  {
   "cell_type": "code",
   "execution_count": 25,
   "id": "92b8cb16",
   "metadata": {},
   "outputs": [
    {
     "data": {
      "text/plain": [
       "City\n",
       "Mandalay     106197.6720\n",
       "Naypyitaw    110568.7065\n",
       "Yangon       106200.3705\n",
       "Name: Total, dtype: float64"
      ]
     },
     "execution_count": 25,
     "metadata": {},
     "output_type": "execute_result"
    }
   ],
   "source": [
    "#5. What is the city with the largest revenue?\n",
    "total_cityrevenue =  df.groupby(\"City\")[\"Total\"].sum() \n",
    "\n",
    "sorted_df = df.sort_values(by='Total')\n",
    "\n",
    "# max_value = df['Total'].max()\n",
    "total_cityrevenue"
   ]
  },
  {
   "cell_type": "code",
   "execution_count": 26,
   "id": "dd20f221",
   "metadata": {},
   "outputs": [
    {
     "name": "stdout",
     "output_type": "stream",
     "text": [
      "Product line with maximum total revenue: Food and beverages\n",
      "Maximum total revenue: 56144.844\n"
     ]
    }
   ],
   "source": [
    "#6. What product line had the largest revenue?\n",
    "\n",
    "# Assuming total_cityrevenue is already calculated as shown in the question:\n",
    "total_cityrevenue = df.groupby(\"Product line\")[\"Total\"].sum()\n",
    "\n",
    "# Get the index of the maximum value in total_cityrevenue\n",
    "max_index = total_cityrevenue.idxmax()\n",
    "\n",
    "# Retrieve the product line corresponding to the maximum value\n",
    "product_line_with_max_revenue = max_index\n",
    "max_total_revenue = total_cityrevenue[max_index]\n",
    "\n",
    "print(\"Product line with maximum total revenue:\", product_line_with_max_revenue)\n",
    "print(\"Maximum total revenue:\", max_total_revenue)"
   ]
  },
  {
   "cell_type": "code",
   "execution_count": null,
   "id": "f6485ff0",
   "metadata": {},
   "outputs": [],
   "source": [
    "# #7. Fetch each product line and add a column to those product line showing \"Good\", \"Bad\". Good if its greater than average sales\n",
    "# #get the average of the total sales\n",
    " average_sales = df['Total'].mean()\n",
    "# #add a column\n",
    "df['Good or Bad'] = ('')\n",
    "# #saving changed to the dataset so that they can be seen\n",
    " df.to_csv('WalmartSalesData.csv', index=False)\n",
    "# #populating the column\n",
    " pl =df['Product line']\n",
    " def p (pl):\n",
    "     if pl > average_sales:\n",
    "         return 'Good'\n",
    "     else: \n",
    "         return 'Bad'\n",
    "    \n",
    "    \n",
    "\n",
    "\n",
    "\n",
    "\n",
    " df['Good or Bad'] = df['Product line'].apply(p)\n",
    "\n",
    "print(df.dtypes)"
   ]
  },
  {
   "cell_type": "code",
   "execution_count": 27,
   "id": "7e8723ed",
   "metadata": {},
   "outputs": [
    {
     "ename": "IndentationError",
     "evalue": "expected an indented block after function definition on line 5 (3108642232.py, line 7)",
     "output_type": "error",
     "traceback": [
      "\u001b[1;36m  Cell \u001b[1;32mIn[27], line 7\u001b[1;36m\u001b[0m\n\u001b[1;33m    profitable = df.groupby('Branch')['Total'].filter(filter_condition)\u001b[0m\n\u001b[1;37m    ^\u001b[0m\n\u001b[1;31mIndentationError\u001b[0m\u001b[1;31m:\u001b[0m expected an indented block after function definition on line 5\n"
     ]
    }
   ],
   "source": [
    "#8. Which branch sold more products than average product sold?\n",
    "# get the average of the total sales\n",
    "\n"
   ]
  },
  {
   "cell_type": "code",
   "execution_count": null,
   "id": "05d009fa",
   "metadata": {},
   "outputs": [],
   "source": [
    "#9. What is the most common product line by gender?"
   ]
  },
  {
   "cell_type": "code",
   "execution_count": null,
   "id": "1672a0ad",
   "metadata": {},
   "outputs": [],
   "source": [
    "#10. What product line had the largest VAT?"
   ]
  },
  {
   "cell_type": "code",
   "execution_count": null,
   "id": "60d29827",
   "metadata": {},
   "outputs": [],
   "source": [
    "#11. What is the average rating of each product line?"
   ]
  },
  {
   "cell_type": "code",
   "execution_count": null,
   "id": "948d6669",
   "metadata": {},
   "outputs": [],
   "source": []
  },
  {
   "cell_type": "code",
   "execution_count": null,
   "id": "ada20611",
   "metadata": {},
   "outputs": [],
   "source": []
  }
 ],
 "metadata": {
  "kernelspec": {
   "display_name": "Python 3 (ipykernel)",
   "language": "python",
   "name": "python3"
  },
  "language_info": {
   "codemirror_mode": {
    "name": "ipython",
    "version": 3
   },
   "file_extension": ".py",
   "mimetype": "text/x-python",
   "name": "python",
   "nbconvert_exporter": "python",
   "pygments_lexer": "ipython3",
   "version": "3.11.5"
  }
 },
 "nbformat": 4,
 "nbformat_minor": 5
}
