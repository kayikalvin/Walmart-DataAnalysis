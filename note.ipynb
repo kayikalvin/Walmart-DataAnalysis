{
 "cells": [
  {
   "cell_type": "code",
   "execution_count": 1,
   "id": "c6418ef7-b569-4e83-8293-046e28275fd5",
   "metadata": {
    "tags": []
   },
   "outputs": [],
   "source": [
    "import pandas as pd\n",
    "import os\n",
    "from datetime import datetime"
   ]
  },
  {
   "cell_type": "code",
   "execution_count": 2,
   "id": "a39ac856-3f2d-4d79-884c-71a6f44d13d7",
   "metadata": {
    "tags": []
   },
   "outputs": [
    {
     "name": "stdout",
     "output_type": "stream",
     "text": [
      "Current working directory: C:\\Users\\ALVIN KAYI\\Desktop\\walmart_project\n"
     ]
    }
   ],
   "source": [
    "#get the working directory\n",
    "current_directory = os.getcwd()\n",
    "\n",
    "# Print the current working directory\n",
    "print(\"Current working directory:\", current_directory)\n"
   ]
  },
  {
   "cell_type": "code",
   "execution_count": 3,
   "id": "07001a37-5ce7-4fa1-9658-1b734af02778",
   "metadata": {
    "tags": []
   },
   "outputs": [],
   "source": [
    "df = pd.read_csv(r\"C:\\Users\\ALVIN KAYI\\Desktop\\walmart_project\\WalmartSalesData.csv\")"
   ]
  },
  {
   "cell_type": "code",
   "execution_count": 6,
   "id": "3400e16a-30fe-487d-a36e-fccf05a89ea6",
   "metadata": {
    "tags": []
   },
   "outputs": [],
   "source": [
    "# Add a new column named `time_of_day` to give insight of sales in the Morning, Afternoon and Evening. This will help answer the question on which part of the day most sales are made.\n",
    "\n",
    "#Convert to String: Assuming your DataFrame is named df, convert the Time column to string:\n",
    "df['hour'] = df['Time of Day'].str[:2].astype(int)\n",
    "\n",
    "#Create New Column: Next, create a new column named time_of_day based on the hour values:\n",
    "df['time_of_day'] = pd.cut(df['hour'], bins=[0, 12, 18, 24], labels=['Morning', 'Afternoon', 'Evening'])\n",
    "\n",
    "#Clean Up: Finally, drop the temporary hour column if you don’t need it anymore:\n",
    "df.drop(columns=['hour'], inplace=True)\n",
    "\n",
    "#save to the cvs file\n",
    "df.to_csv('WalmartSalesData.csv', index=False)"
   ]
  },
  {
   "cell_type": "code",
   "execution_count": 14,
   "id": "f4e03aea-35cb-4788-bcb0-36377c12f100",
   "metadata": {
    "tags": []
   },
   "outputs": [],
   "source": [
    "#Add a new column named `day_name` that contains the extracted days of the week on which the given transaction took place (Mon, Tue, Wed, Thur, Fri).\n",
    "#This will help answer the question on which week of the day each branch is busiest.\n",
    "#converting date column to datetime to avoid errors when using .dt\n",
    "#The errors='coerce' parameter ensures that any invalid date values are converted to NaT (Not-a-Time) instead of raising an error.\n",
    "df['Date'] = pd.to_datetime(df['Date'], errors='coerce')\n",
    "\n",
    "df['day_name'] = df['Date'].dt.day_name()\n",
    "\n",
    "\n",
    "\n",
    "df.to_csv('WalmartSalesData.csv', index=False)"
   ]
  },
  {
   "cell_type": "code",
   "execution_count": 20,
   "id": "55fc1f6f-57cc-4035-a858-68bd73c973e9",
   "metadata": {
    "tags": []
   },
   "outputs": [],
   "source": [
    "# #Add a new column named `month_name` that contains the extracted months of the year on which the given transaction took place (Jan, Feb, Mar). Help determine which month of the year has the most sales and profit.\n",
    "# #creating a column to hold the months data\n",
    " df['month'] = df['Date'].dt.month\n",
    "\n",
    "  months = {\n",
    "     1:'January',\n",
    "     2:'February',\n",
    "     3:'March',\n",
    "     4:\"April\",\n",
    "     5:\"May\",\n",
    "     6:\"June\",\n",
    "     7:\"July\",\n",
    "     8:\"August\",\n",
    "     9:\"September\",\n",
    "     10:\"october\",\n",
    "     11:\"November\",\n",
    "     12:\"December\"\n",
    " }\n",
    "\n",
    "# #the clumn was displayed in numbers so we create a dictionary to be mapped over to be exuated to the figures\n",
    "df[\"Month\"] = df[\"month\"].map(months)\n",
    "\n",
    "# delete tghe month column you dont need it anymore\n",
    "df.drop(columns=['month'], inplace=True)\n",
    "\n",
    "# #save the changes to the csv file\n",
    "df.to_csv('WalmartSalesData.csv', index=False)"
   ]
  },
  {
   "cell_type": "code",
   "execution_count": 21,
   "id": "c851c98d-2b8e-420f-bbe3-480539c0998a",
   "metadata": {
    "tags": []
   },
   "outputs": [
    {
     "name": "stdout",
     "output_type": "stream",
     "text": [
      "3\n"
     ]
    }
   ],
   "source": [
    "## Business Questions To Answer\n",
    "\n",
    "### Generic Question\n",
    "\n",
    "#1. How many unique cities does the data have?\n",
    "unique_cities = df[\"City\"].nunique()\n",
    "print(unique_cities)"
   ]
  },
  {
   "cell_type": "code",
   "execution_count": 29,
   "id": "ff653ae0-e377-4d3c-94cd-37c83d5bb26e",
   "metadata": {
    "tags": []
   },
   "outputs": [
    {
     "name": "stdout",
     "output_type": "stream",
     "text": [
      "  Branch       Cities\n",
      "0      A     [Yangon]\n",
      "1      B   [Mandalay]\n",
      "2      C  [Naypyitaw]\n"
     ]
    }
   ],
   "source": [
    "#2. In which city is each branch\n",
    "# Group by branch and aggregate the cities into a list\n",
    "branch_cities = df.groupby('Branch')['City'].unique()\n",
    "\n",
    "# Create a new DataFrame to display the results\n",
    "result_df = pd.DataFrame(branch_cities)\n",
    "result_df.reset_index(inplace=True)  # Reset index for cleaner display\n",
    "\n",
    "# Rename columns for clarity\n",
    "result_df.columns = ['Branch', 'Cities']\n",
    "\n",
    "# Print the result\n",
    "print(result_df)\n"
   ]
  },
  {
   "cell_type": "code",
   "execution_count": 30,
   "id": "eb66dc04-da56-4d3e-a8b5-a65827e69db5",
   "metadata": {
    "tags": []
   },
   "outputs": [
    {
     "name": "stdout",
     "output_type": "stream",
     "text": [
      "6\n"
     ]
    }
   ],
   "source": [
    "#\n",
    "### Product\n",
    "\n",
    "# 1. How many unique product lines does the data have?\n",
    "\n",
    "unique_products = df['Product line'].nunique()\n",
    "print(unique_products)"
   ]
  },
  {
   "cell_type": "code",
   "execution_count": 4,
   "id": "d4a67a8e-18fe-4399-9a2a-63ff056e5717",
   "metadata": {
    "tags": []
   },
   "outputs": [
    {
     "name": "stdout",
     "output_type": "stream",
     "text": [
      "The most common payment method is: (Payment\n",
      "Cash           1896\n",
      "Credit card    1722\n",
      "Ewallet        1892\n",
      "Name: Quantity, dtype: int64)\n"
     ]
    }
   ],
   "source": [
    "#2. What is the most common payment method?\n",
    "import pandas as pd\n",
    "df = pd.read_csv(r\"C:\\Users\\ALVIN KAYI\\Desktop\\walmart_project\\WalmartSalesData.csv\")\n",
    "\n",
    "common = df.groupby(\"Payment\")[\"Quantity\"].sum()\n",
    "\n",
    "result_df = pd.DataFrame(common)\n",
    "result_df.reset_index(inplace=True)\n",
    "\n",
    "# most_common_method = common.idxmax()\n",
    "print(f\"The most common payment method is: ({common})\")\n",
    "\n"
   ]
  },
  {
   "cell_type": "code",
   "execution_count": 20,
   "id": "adfbce38-c932-431c-86c4-15da7de6da8f",
   "metadata": {},
   "outputs": [
    {
     "name": "stdout",
     "output_type": "stream",
     "text": [
      "The most common payment method is: (Product line\n",
      "Electronic accessories    971\n",
      "Fashion accessories       902\n",
      "Food and beverages        952\n",
      "Health and beauty         854\n",
      "Home and lifestyle        911\n",
      "Sports and travel         920\n",
      "Name: Quantity, dtype: int64)\n"
     ]
    }
   ],
   "source": [
    "#3. What is the most selling product line?\n",
    "most_sold =  df.groupby(\"Product line\")[\"Quantity\"].sum() \n",
    "result_df = pd.DataFrame(most_sold) \n",
    "\n",
    "\n",
    "print(f\"The most common payment method is: ({most_sold})\")\n"
   ]
  },
  {
   "cell_type": "code",
   "execution_count": 21,
   "id": "4f2254c1-1c24-4d3d-b244-0bbaaa6b9326",
   "metadata": {},
   "outputs": [
    {
     "data": {
      "text/plain": [
       "Month\n",
       "February     97219.374\n",
       "January     116291.868\n",
       "March       109455.507\n",
       "Name: Total, dtype: float64"
      ]
     },
     "execution_count": 21,
     "metadata": {},
     "output_type": "execute_result"
    }
   ],
   "source": [
    "#4. What is the total revenue by month?\n",
    "total_revenue =  df.groupby(\"Month\")[\"Total\"].sum() \n",
    "# result_df = pd.DataFrame(most_sold) \n",
    "total_revenue"
   ]
  },
  {
   "cell_type": "code",
   "execution_count": 29,
   "id": "fd3e1d11-7bf9-4390-8c21-290656c46e06",
   "metadata": {},
   "outputs": [
    {
     "data": {
      "text/plain": [
       "City\n",
       "Mandalay     106197.6720\n",
       "Naypyitaw    110568.7065\n",
       "Yangon       106200.3705\n",
       "Name: Total, dtype: float64"
      ]
     },
     "execution_count": 29,
     "metadata": {},
     "output_type": "execute_result"
    }
   ],
   "source": [
    "#5. What is the city with the largest revenue?\n",
    "total_cityrevenue =  df.groupby(\"City\")[\"Total\"].sum() \n",
    "\n",
    "sorted_df = df.sort_values(by='Total')\n",
    "\n",
    "# max_value = df['Total'].max()\n",
    "total_cityrevenue"
   ]
  },
  {
   "cell_type": "code",
   "execution_count": 46,
   "id": "99ffdfb4-ee9c-4576-90d7-44a244f36414",
   "metadata": {},
   "outputs": [
    {
     "name": "stdout",
     "output_type": "stream",
     "text": [
      "Product line with maximum total revenue: Food and beverages\n",
      "Maximum total revenue: 56144.844\n"
     ]
    }
   ],
   "source": [
    "#6. What product line had the largest revenue?\n",
    "\n",
    "# Assuming total_cityrevenue is already calculated as shown in the question:\n",
    "total_cityrevenue = df.groupby(\"Product line\")[\"Total\"].sum()\n",
    "\n",
    "# Get the index of the maximum value in total_cityrevenue\n",
    "max_index = total_cityrevenue.idxmax()\n",
    "\n",
    "# Retrieve the product line corresponding to the maximum value\n",
    "product_line_with_max_revenue = max_index\n",
    "max_total_revenue = total_cityrevenue[max_index]\n",
    "\n",
    "print(\"Product line with maximum total revenue:\", product_line_with_max_revenue)\n",
    "print(\"Maximum total revenue:\", max_total_revenue)\n",
    "\n"
   ]
  },
  {
   "cell_type": "code",
   "execution_count": 67,
   "id": "151fcaf8-d0c1-49b9-a2de-bd2f93e0a71b",
   "metadata": {},
   "outputs": [
    {
     "name": "stdout",
     "output_type": "stream",
     "text": [
      "Invoice ID                  object\n",
      "Branch                      object\n",
      "City                        object\n",
      "Customer type               object\n",
      "Gender                      object\n",
      "Product line                object\n",
      "Unit price                 float64\n",
      "Quantity                     int64\n",
      "Tax 5%                     float64\n",
      "Total                      float64\n",
      "Date                        object\n",
      "Time                        object\n",
      "Payment                     object\n",
      "cogs                       float64\n",
      "gross margin percentage    float64\n",
      "gross income               float64\n",
      "Rating                     float64\n",
      "Time of Day                 object\n",
      "time_of_day                 object\n",
      "day_name                    object\n",
      "Month                       object\n",
      "Good or Bad                 object\n",
      "dtype: object\n"
     ]
    }
   ],
   "source": [
    "# #7. Fetch each product line and add a column to those product line showing \"Good\", \"Bad\". Good if its greater than average sales\n",
    "# #get the average of the total sales\n",
    "# average_sales = df['Total'].mean()\n",
    "# #add a column\n",
    "# df['Good or Bad'] = ('')\n",
    "# #saving changed to the dataset so that they can be seen\n",
    "# df.to_csv('WalmartSalesData.csv', index=False)\n",
    "# #populating the column\n",
    "# pl =df['Product line']\n",
    "# def p (pl):\n",
    "#     if pl > average_sales:\n",
    "#         return 'Good'\n",
    "#     else: \n",
    "#         return 'Bad'\n",
    "    \n",
    "    \n",
    "\n",
    "\n",
    "\n",
    "\n",
    "# df['Good or Bad'] = df['Product line'].apply(p)\n",
    "\n",
    "print(df.dtypes)"
   ]
  },
  {
   "cell_type": "code",
   "execution_count": null,
   "id": "54a20574-1801-4f96-bbec-24340141f18e",
   "metadata": {},
   "outputs": [],
   "source": [
    "#8. Which branch sold more products than average product sold?\n",
    "# get the average of the total sales\n",
    "average_sales = df['Total'].mean()\n",
    "\n",
    "def filter_condition():\n",
    "    \n",
    "profitable = df.groupby('Branch')['Total'].filter(filter_condition)"
   ]
  },
  {
   "cell_type": "code",
   "execution_count": null,
   "id": "c38896e8-83eb-4270-bcc8-1028e8c15bde",
   "metadata": {},
   "outputs": [],
   "source": [
    "#9. What is the most common product line by gender?"
   ]
  },
  {
   "cell_type": "code",
   "execution_count": null,
   "id": "ece8e8e4-1d92-431f-b81a-b96b345e84fa",
   "metadata": {},
   "outputs": [],
   "source": [
    "#10. What product line had the largest VAT?"
   ]
  },
  {
   "cell_type": "code",
   "execution_count": null,
   "id": "0ed5fdcc-09b1-45e3-acaa-4968977f26ac",
   "metadata": {},
   "outputs": [],
   "source": [
    "#11. What is the average rating of each product line?"
   ]
  }
 ],
 "metadata": {
  "kernelspec": {
   "display_name": "Python 3 (ipykernel)",
   "language": "python",
   "name": "python3"
  },
  "language_info": {
   "codemirror_mode": {
    "name": "ipython",
    "version": 3
   },
   "file_extension": ".py",
   "mimetype": "text/x-python",
   "name": "python",
   "nbconvert_exporter": "python",
   "pygments_lexer": "ipython3",
   "version": "3.11.5"
  }
 },
 "nbformat": 4,
 "nbformat_minor": 5
}
